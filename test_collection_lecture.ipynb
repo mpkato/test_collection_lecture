{
 "cells": [
  {
   "cell_type": "markdown",
   "metadata": {},
   "source": [
    "# 前処理\n",
    "\n",
    "まずはRankings.csvとPooling.csvを読み込んで，各システムのランキングと文書の適合性を使えるようにする．あまり本質的なことはしていない．"
   ]
  },
  {
   "cell_type": "code",
   "execution_count": 1,
   "metadata": {},
   "outputs": [],
   "source": [
    "import csv\n",
    "import pandas as pd\n",
    "\n",
    "CITIES = [\"京都\", \"大阪\", \"渋谷\", \"札幌\"]\n",
    "\n",
    "def read_rankings(filepath):\n",
    "    \"\"\"\n",
    "    各システムのランキングをクエリごとにわけてまとめる\n",
    "    \"\"\"\n",
    "    ranking_df = pd.read_csv(filepath)\n",
    "    ranking_df = ranking_df.dropna(thresh=5) # NaNが5以上ある行を削除\n",
    "    system_names = ranking_df[[\"お名前\", \"システム名\"]].values\n",
    "\n",
    "    all_rankings = {}\n",
    "    colname = \"入力「{}」のランキング\"\n",
    "    for city in CITIES:\n",
    "        rankings = ranking_df[colname.format(city)]\n",
    "        rankings = rankings.map(lambda x: x.split(\"\\n\")).tolist()\n",
    "        system_rankings = {tuple(system_name): ranking for system_name, ranking in zip(system_names, rankings)}\n",
    "        all_rankings[city] = system_rankings\n",
    "    return all_rankings"
   ]
  },
  {
   "cell_type": "code",
   "execution_count": 2,
   "metadata": {},
   "outputs": [],
   "source": [
    "def read_pooling(filepath):\n",
    "    \"\"\"\n",
    "    クエリごとに各文書の適合度を得る\n",
    "    \"\"\"\n",
    "    pooling_df = pd.read_csv(filepath)\n",
    "    all_qrels = {}\n",
    "    for i, city in enumerate(CITIES):\n",
    "        qrels = {doc_id: int(rel) for doc_id, rel in pooling_df.iloc[:,4*i:4*i+2].values if rel >= 0}\n",
    "        all_qrels[city] = qrels\n",
    "    return all_qrels"
   ]
  },
  {
   "cell_type": "code",
   "execution_count": 3,
   "metadata": {},
   "outputs": [],
   "source": [
    "all_rankings = read_rankings(\"./Rankings.csv\")\n",
    "all_qrels = read_pooling(\"./Pooling.csv\")"
   ]
  },
  {
   "cell_type": "markdown",
   "metadata": {},
   "source": [
    "# 評価指標(Precision@5とnDCG)の計算\n",
    "\n",
    "適合性判定結果を利用して各システムの善し悪しを数値化する．"
   ]
  },
  {
   "cell_type": "code",
   "execution_count": 4,
   "metadata": {},
   "outputs": [
    {
     "data": {
      "text/html": [
       "<div>\n",
       "<style scoped>\n",
       "    .dataframe tbody tr th:only-of-type {\n",
       "        vertical-align: middle;\n",
       "    }\n",
       "\n",
       "    .dataframe tbody tr th {\n",
       "        vertical-align: top;\n",
       "    }\n",
       "\n",
       "    .dataframe thead th {\n",
       "        text-align: right;\n",
       "    }\n",
       "</style>\n",
       "<table border=\"1\" class=\"dataframe\">\n",
       "  <thead>\n",
       "    <tr style=\"text-align: right;\">\n",
       "      <th></th>\n",
       "      <th>Metric</th>\n",
       "      <th>System</th>\n",
       "      <th>Query</th>\n",
       "      <th>Score</th>\n",
       "    </tr>\n",
       "  </thead>\n",
       "  <tbody>\n",
       "    <tr>\n",
       "      <th>0</th>\n",
       "      <td>P@5</td>\n",
       "      <td>加藤 誠: デフォルト</td>\n",
       "      <td>京都</td>\n",
       "      <td>0.600000</td>\n",
       "    </tr>\n",
       "    <tr>\n",
       "      <th>1</th>\n",
       "      <td>P@5</td>\n",
       "      <td>加藤 誠: 道</td>\n",
       "      <td>京都</td>\n",
       "      <td>1.000000</td>\n",
       "    </tr>\n",
       "    <tr>\n",
       "      <th>2</th>\n",
       "      <td>nDCG@5</td>\n",
       "      <td>加藤 誠: デフォルト</td>\n",
       "      <td>京都</td>\n",
       "      <td>0.553146</td>\n",
       "    </tr>\n",
       "    <tr>\n",
       "      <th>3</th>\n",
       "      <td>nDCG@5</td>\n",
       "      <td>加藤 誠: 道</td>\n",
       "      <td>京都</td>\n",
       "      <td>0.723427</td>\n",
       "    </tr>\n",
       "    <tr>\n",
       "      <th>4</th>\n",
       "      <td>P@5</td>\n",
       "      <td>加藤 誠: デフォルト</td>\n",
       "      <td>大阪</td>\n",
       "      <td>1.000000</td>\n",
       "    </tr>\n",
       "    <tr>\n",
       "      <th>5</th>\n",
       "      <td>P@5</td>\n",
       "      <td>加藤 誠: 道</td>\n",
       "      <td>大阪</td>\n",
       "      <td>0.600000</td>\n",
       "    </tr>\n",
       "    <tr>\n",
       "      <th>6</th>\n",
       "      <td>nDCG@5</td>\n",
       "      <td>加藤 誠: デフォルト</td>\n",
       "      <td>大阪</td>\n",
       "      <td>0.921838</td>\n",
       "    </tr>\n",
       "    <tr>\n",
       "      <th>7</th>\n",
       "      <td>nDCG@5</td>\n",
       "      <td>加藤 誠: 道</td>\n",
       "      <td>大阪</td>\n",
       "      <td>0.400065</td>\n",
       "    </tr>\n",
       "    <tr>\n",
       "      <th>8</th>\n",
       "      <td>P@5</td>\n",
       "      <td>加藤 誠: デフォルト</td>\n",
       "      <td>渋谷</td>\n",
       "      <td>1.000000</td>\n",
       "    </tr>\n",
       "    <tr>\n",
       "      <th>9</th>\n",
       "      <td>P@5</td>\n",
       "      <td>加藤 誠: 道</td>\n",
       "      <td>渋谷</td>\n",
       "      <td>0.600000</td>\n",
       "    </tr>\n",
       "    <tr>\n",
       "      <th>10</th>\n",
       "      <td>nDCG@5</td>\n",
       "      <td>加藤 誠: デフォルト</td>\n",
       "      <td>渋谷</td>\n",
       "      <td>1.000000</td>\n",
       "    </tr>\n",
       "    <tr>\n",
       "      <th>11</th>\n",
       "      <td>nDCG@5</td>\n",
       "      <td>加藤 誠: 道</td>\n",
       "      <td>渋谷</td>\n",
       "      <td>0.433986</td>\n",
       "    </tr>\n",
       "    <tr>\n",
       "      <th>12</th>\n",
       "      <td>P@5</td>\n",
       "      <td>加藤 誠: デフォルト</td>\n",
       "      <td>札幌</td>\n",
       "      <td>1.000000</td>\n",
       "    </tr>\n",
       "    <tr>\n",
       "      <th>13</th>\n",
       "      <td>P@5</td>\n",
       "      <td>加藤 誠: 道</td>\n",
       "      <td>札幌</td>\n",
       "      <td>0.600000</td>\n",
       "    </tr>\n",
       "    <tr>\n",
       "      <th>14</th>\n",
       "      <td>nDCG@5</td>\n",
       "      <td>加藤 誠: デフォルト</td>\n",
       "      <td>札幌</td>\n",
       "      <td>1.000000</td>\n",
       "    </tr>\n",
       "    <tr>\n",
       "      <th>15</th>\n",
       "      <td>nDCG@5</td>\n",
       "      <td>加藤 誠: 道</td>\n",
       "      <td>札幌</td>\n",
       "      <td>0.259387</td>\n",
       "    </tr>\n",
       "  </tbody>\n",
       "</table>\n",
       "</div>"
      ],
      "text/plain": [
       "    Metric       System Query     Score\n",
       "0      P@5  加藤 誠: デフォルト    京都  0.600000\n",
       "1      P@5      加藤 誠: 道    京都  1.000000\n",
       "2   nDCG@5  加藤 誠: デフォルト    京都  0.553146\n",
       "3   nDCG@5      加藤 誠: 道    京都  0.723427\n",
       "4      P@5  加藤 誠: デフォルト    大阪  1.000000\n",
       "5      P@5      加藤 誠: 道    大阪  0.600000\n",
       "6   nDCG@5  加藤 誠: デフォルト    大阪  0.921838\n",
       "7   nDCG@5      加藤 誠: 道    大阪  0.400065\n",
       "8      P@5  加藤 誠: デフォルト    渋谷  1.000000\n",
       "9      P@5      加藤 誠: 道    渋谷  0.600000\n",
       "10  nDCG@5  加藤 誠: デフォルト    渋谷  1.000000\n",
       "11  nDCG@5      加藤 誠: 道    渋谷  0.433986\n",
       "12     P@5  加藤 誠: デフォルト    札幌  1.000000\n",
       "13     P@5      加藤 誠: 道    札幌  0.600000\n",
       "14  nDCG@5  加藤 誠: デフォルト    札幌  1.000000\n",
       "15  nDCG@5      加藤 誠: 道    札幌  0.259387"
      ]
     },
     "execution_count": 4,
     "metadata": {},
     "output_type": "execute_result"
    }
   ],
   "source": [
    "from pyNTCIREVAL import Labeler\n",
    "from pyNTCIREVAL.metrics import Precision, MSnDCG\n",
    "from pyNTCIREVAL.metrics.metric import MetricState\n",
    "\n",
    "GRADES = [1, 2] # nDCGの0以外の適合度\n",
    "REL_LEVEL_NUM = 3 # 適合度の段階数\n",
    "\n",
    "evaluation_values = []\n",
    "\n",
    "for city in CITIES:\n",
    "    qrels = all_qrels[city]\n",
    "    labeler = Labeler(qrels)\n",
    "    \n",
    "    precision = Precision(cutoff=5)\n",
    "    xrelnum = labeler.compute_per_level_doc_num(REL_LEVEL_NUM)\n",
    "    ndcg = MSnDCG(xrelnum, GRADES, cutoff=5)\n",
    "    metrics = {\"P@5\": precision, \"nDCG@5\": ndcg}\n",
    "        \n",
    "    for metric_name, metric in metrics.items():\n",
    "        for system_name, ranked_list in all_rankings[city].items():\n",
    "            labeled_ranked_list = labeler.label(ranked_list)\n",
    "            result = metric.compute(labeled_ranked_list)\n",
    "            evaluation_values.append((metric_name, \": \".join(system_name), city, result))\n",
    "\n",
    "eval_df = pd.DataFrame(evaluation_values, columns=(\"Metric\", \"System\", \"Query\", \"Score\"))\n",
    "eval_df"
   ]
  },
  {
   "cell_type": "markdown",
   "metadata": {},
   "source": [
    "# 結果の視覚化\n",
    "\n",
    "各システムの評価指標の平均を求めてどのシステムが優れているかを視覚化する．"
   ]
  },
  {
   "cell_type": "code",
   "execution_count": 5,
   "metadata": {},
   "outputs": [
    {
     "data": {
      "text/plain": [
       "<matplotlib.axes._subplots.AxesSubplot at 0x1085e4da0>"
      ]
     },
     "execution_count": 5,
     "metadata": {},
     "output_type": "execute_result"
    },
    {
     "data": {
      "image/png": "[encoded data removed]",
      "text/plain": [
       "<Figure size 432x288 with 1 Axes>"
      ]
     },
     "metadata": {},
     "output_type": "display_data"
    }
   ],
   "source": [
    "% matplotlib inline\n",
    "import matplotlib.pyplot as plt\n",
    "import japanize_matplotlib\n",
    "\n",
    "mean_df = eval_df[eval_df.Metric == \"nDCG@5\"].groupby(\"System\").mean()\n",
    "mean_df.sort_values(by=\"Score\").plot(kind=\"bar\")"
   ]
  },
  {
   "cell_type": "code",
   "execution_count": null,
   "metadata": {},
   "outputs": [],
   "source": []
  }
 ],
 "metadata": {
  "kernelspec": {
   "display_name": "Python 3",
   "language": "python",
   "name": "python3"
  },
  "language_info": {
   "codemirror_mode": {
    "name": "ipython",
    "version": 3
   },
   "file_extension": ".py",
   "mimetype": "text/x-python",
   "name": "python",
   "nbconvert_exporter": "python",
   "pygments_lexer": "ipython3",
   "version": "3.6.5"
  }
 },
 "nbformat": 4,
 "nbformat_minor": 2
}
